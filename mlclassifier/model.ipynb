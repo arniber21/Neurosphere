{
 "cells": [
  {
   "cell_type": "code",
   "execution_count": 1,
   "id": "d3b85b2f-4345-4026-803f-976aa118c7a7",
   "metadata": {},
   "outputs": [
    {
     "name": "stdout",
     "output_type": "stream",
     "text": [
      "Downloading from https://www.kaggle.com/api/v1/datasets/download/masoudnickparvar/brain-tumor-mri-dataset?dataset_version_number=1...\n"
     ]
    },
    {
     "name": "stderr",
     "output_type": "stream",
     "text": [
      "100%|██████████| 149M/149M [00:00<00:00, 224MB/s] "
     ]
    },
    {
     "name": "stdout",
     "output_type": "stream",
     "text": [
      "Extracting files...\n"
     ]
    },
    {
     "name": "stderr",
     "output_type": "stream",
     "text": [
      "\n"
     ]
    },
    {
     "name": "stdout",
     "output_type": "stream",
     "text": [
      "Path to dataset files: /root/.cache/kagglehub/datasets/masoudnickparvar/brain-tumor-mri-dataset/versions/1\n"
     ]
    }
   ],
   "source": [
    "import kagglehub\n",
    "\n",
    "# Download latest version\n",
    "path = kagglehub.dataset_download(\"masoudnickparvar/brain-tumor-mri-dataset\")\n",
    "\n",
    "print(\"Path to dataset files:\", path)"
   ]
  },
  {
   "cell_type": "code",
   "execution_count": null,
   "id": "0cbc9200-9329-4742-8df2-45e9d8ba4c3c",
   "metadata": {},
   "outputs": [],
   "source": [
    "# utils\n",
    "import os\n",
    "import pandas as pd\n",
    "from PIL import Image\n",
    "from sklearn.metrics import classification_report\n",
    "from sklearn.model_selection import train_test_split\n",
    "# torch\n",
    "import torch\n",
    "import torch.optim as optim\n",
    "import torch.nn as nn\n",
    "from torch.utils.data import Dataset, DataLoader\n",
    "import torchvision.transforms as transforms\n",
    "from torchvision import models"
   ]
  },
  {
   "cell_type": "code",
   "execution_count": 36,
   "id": "50895e99-96f4-41dc-bf9c-425eb4d3a3af",
   "metadata": {},
   "outputs": [],
   "source": [
    "base_directory = '/root/.cache/kagglehub/datasets/masoudnickparvar/brain-tumor-mri-dataset/versions/1'\n",
    "train, test = 'Training', 'Testing'\n",
    "target_size = (224, 224)\n",
    "random_state = 42\n",
    "batch_size = 32\n",
    "num_classes = 4\n",
    "device = \"cuda\" if torch.cuda.is_available() else \"cpu\"\n",
    "label_map = {\n",
    "    'notumor': 0,        \n",
    "    'glioma': 1,         \n",
    "    'meningioma': 2,     \n",
    "    'pituitary': 3       \n",
    "}"
   ]
  },
  {
   "cell_type": "code",
   "execution_count": 37,
   "id": "bf925337-17d4-4813-afef-39f3641840c9",
   "metadata": {},
   "outputs": [
    {
     "name": "stdout",
     "output_type": "stream",
     "text": [
      "['meningioma', 'glioma', 'notumor', 'pituitary']\n"
     ]
    }
   ],
   "source": [
    "categories = os.listdir(base_directory+'/'+train)\n",
    "print(categories)"
   ]
  },
  {
   "cell_type": "code",
   "execution_count": 38,
   "id": "fba3654f-1207-4967-9312-263f14ad2782",
   "metadata": {},
   "outputs": [],
   "source": [
    "def create_dataset(path):\n",
    "    my_list = []\n",
    "    for category in categories:\n",
    "        category_path = os.path.join(path, category)\n",
    "        for file_name in os.listdir(category_path):\n",
    "            file_path = os.path.join(category_path, file_name)\n",
    "            # Ensure we're only adding image files\n",
    "            if os.path.isfile(file_path) and file_name.lower().endswith(('.png', '.jpg', '.jpeg')):\n",
    "                my_list.append([file_path, category])\n",
    "    return pd.DataFrame(my_list, columns=['file_path', 'label'])"
   ]
  },
  {
   "cell_type": "code",
   "execution_count": 39,
   "id": "5d9a666a-d0e1-4448-8257-23c48f83d709",
   "metadata": {},
   "outputs": [],
   "source": [
    "train_df = create_dataset(base_directory+'/'+train)\n",
    "test_df = create_dataset(base_directory+'/'+test)"
   ]
  },
  {
   "cell_type": "code",
   "execution_count": 40,
   "id": "496e91c9-2f1c-4e73-b84e-dcca3abe8c89",
   "metadata": {},
   "outputs": [],
   "source": [
    "train_df['label'] = train_df['label'].map(label_map)\n",
    "test_df['label'] = test_df['label'].map(label_map)"
   ]
  },
  {
   "cell_type": "code",
   "execution_count": 41,
   "id": "0ddaed88-55d9-411b-8ce8-a4eed7fbf7b8",
   "metadata": {},
   "outputs": [],
   "source": [
    "class ImageDataset(Dataset):\n",
    "    def __init__(self, dataframe, transform=None):\n",
    "        self.dataframe = dataframe\n",
    "        self.transform = transform\n",
    "        \n",
    "    def __len__(self):\n",
    "        return len(self.dataframe)\n",
    "\n",
    "    def __getitem__(self, idx):\n",
    "        img_path = self.dataframe.iloc[idx, 0]\n",
    "        label = self.dataframe.iloc[idx, 1]\n",
    "        img = Image.open(img_path).convert('RGB')  \n",
    "\n",
    "        if self.transform:\n",
    "            img = self.transform(img)\n",
    "            \n",
    "        return img, label"
   ]
  },
  {
   "cell_type": "code",
   "execution_count": 42,
   "id": "c9552e53-743f-4b53-8d79-394aa29fb3c0",
   "metadata": {},
   "outputs": [],
   "source": [
    "train_transform = transforms.Compose([\n",
    "\n",
    "   transforms.Resize(target_size),\n",
    "   transforms.RandomHorizontalFlip(),\n",
    "   transforms.RandomAffine(degrees=0, translate=(0.1, 0.1)),\n",
    "   transforms.ColorJitter(brightness=(0.8, 1.2)),\n",
    "   transforms.RandomRotation(10),\n",
    "   transforms.ToTensor(),\n",
    "   transforms.Normalize(mean=[0.485, 0.456, 0.406], std=[0.229, 0.224, 0.225])\n",
    "])\n",
    "\n",
    "test_transform = transforms.Compose([\n",
    "    transforms.Resize((224,224)),\n",
    "    transforms.ToTensor(),\n",
    "    transforms.Normalize(mean=[0.485, 0.456, 0.406], std=[0.229, 0.224, 0.225])\n",
    "])"
   ]
  },
  {
   "cell_type": "code",
   "execution_count": 43,
   "id": "fa3822b8-287b-45e2-a499-96d909a24499",
   "metadata": {},
   "outputs": [],
   "source": [
    "test_df_split, val_df_split = train_test_split(test_df, test_size=0.5, random_state=random_state)\n",
    "# Reset indices for consistency\n",
    "test_df_split = test_df_split.reset_index(drop=True)\n",
    "val_df_split = val_df_split.reset_index(drop=True)"
   ]
  },
  {
   "cell_type": "code",
   "execution_count": 44,
   "id": "e6a9b273-a022-40d3-b019-2b0110ab19cd",
   "metadata": {},
   "outputs": [],
   "source": [
    "train_dataset = ImageDataset(train_df, transform=train_transform)\n",
    "val_dataset = ImageDataset(val_df_split, transform=test_transform)\n",
    "test_dataset = ImageDataset(test_df_split, transform=test_transform)\n",
    "\n",
    "# DataLoader\n",
    "train_loader = DataLoader(train_dataset, batch_size=batch_size, shuffle=True)\n",
    "val_loader = DataLoader(val_dataset, batch_size=batch_size, shuffle=False)\n",
    "test_loader = DataLoader(test_dataset, batch_size=batch_size, shuffle=False)"
   ]
  },
  {
   "cell_type": "code",
   "execution_count": 45,
   "id": "70b62f3c-87bc-4975-9daf-19b84dd9bee0",
   "metadata": {},
   "outputs": [
    {
     "name": "stderr",
     "output_type": "stream",
     "text": [
      "/usr/local/lib/python3.10/dist-packages/torchvision/models/_utils.py:208: UserWarning: The parameter 'pretrained' is deprecated since 0.13 and may be removed in the future, please use 'weights' instead.\n",
      "  warnings.warn(\n",
      "/usr/local/lib/python3.10/dist-packages/torchvision/models/_utils.py:223: UserWarning: Arguments other than a weight enum or `None` for 'weights' are deprecated since 0.13 and may be removed in the future. The current behavior is equivalent to passing `weights=ResNet18_Weights.IMAGENET1K_V1`. You can also use `weights=ResNet18_Weights.DEFAULT` to get the most up-to-date weights.\n",
      "  warnings.warn(msg)\n"
     ]
    }
   ],
   "source": [
    "# Load pretrained ResNet-18 model\n",
    "model = models.resnet18(pretrained=True)"
   ]
  },
  {
   "cell_type": "code",
   "execution_count": 46,
   "id": "5c808852-628f-4844-8529-4b6bc8f71198",
   "metadata": {},
   "outputs": [],
   "source": [
    "# Freeze all layers except the final fully connected layer\n",
    "for param in model.parameters():\n",
    "    param.requires_grad = False"
   ]
  },
  {
   "cell_type": "code",
   "execution_count": 47,
   "id": "c6a98a75-21c5-4fcc-aa28-399cdaf952f8",
   "metadata": {},
   "outputs": [],
   "source": [
    "num_ftrs = model.fc.in_features\n",
    "model.fc = nn.Sequential(\n",
    "    nn.Linear(num_ftrs, 512),  \n",
    "    nn.ReLU(),                \n",
    "    nn.Dropout(0.5),           \n",
    "    nn.Linear(512, 4)          \n",
    ")"
   ]
  },
  {
   "cell_type": "code",
   "execution_count": 48,
   "id": "20a9236c-f9e5-4f06-b094-a07c2010c5d5",
   "metadata": {},
   "outputs": [],
   "source": [
    "# Move model to device\n",
    "model = model.to(device)"
   ]
  },
  {
   "cell_type": "code",
   "execution_count": 49,
   "id": "732bbf95-2d85-49cd-86a6-81c33eb073f0",
   "metadata": {},
   "outputs": [],
   "source": [
    "def train_model(model, train_loader, val_loader, criterion, optimizer, num_epochs, name):\n",
    "    device = torch.device(\"cuda\" if torch.cuda.is_available() else \"cpu\")\n",
    "    model.to(device)\n",
    "    \n",
    "    history = {'train_loss': [], 'train_acc': [], 'val_loss': [], 'val_acc': []}\n",
    "\n",
    "    for epoch in range(num_epochs):\n",
    "        # Training phase\n",
    "        model.train()\n",
    "        running_loss = 0.0\n",
    "        correct_train = 0\n",
    "        total_train = 0\n",
    "        for images, labels in train_loader:\n",
    "            images, labels = images.to(device), labels.to(device)\n",
    "            optimizer.zero_grad()\n",
    "            outputs = model(images)\n",
    "            loss = criterion(outputs, labels)\n",
    "            loss.backward()\n",
    "            optimizer.step()\n",
    "            running_loss += loss.item()\n",
    "            _, predicted = torch.max(outputs, 1)\n",
    "            total_train += labels.size(0)\n",
    "            correct_train += (predicted == labels).sum().item()\n",
    "\n",
    "        train_loss = running_loss / len(train_loader)\n",
    "        train_acc = 100 * correct_train / total_train\n",
    "\n",
    "        # Validation phase\n",
    "        model.eval()\n",
    "        val_loss = 0.0\n",
    "        correct_val = 0\n",
    "        total_val = 0\n",
    "        with torch.no_grad():\n",
    "            for images, labels in val_loader:\n",
    "                images, labels = images.to(device), labels.to(device)\n",
    "                outputs = model(images)\n",
    "                loss = criterion(outputs, labels)\n",
    "                val_loss += loss.item()\n",
    "                _, predicted = torch.max(outputs, 1)\n",
    "                total_val += labels.size(0)\n",
    "                correct_val += (predicted == labels).sum().item()\n",
    "\n",
    "        val_loss = val_loss / len(val_loader)\n",
    "        val_acc = 100 * correct_val / total_val\n",
    "\n",
    "        history['train_loss'].append(train_loss)\n",
    "        history['train_acc'].append(train_acc)\n",
    "        history['val_loss'].append(val_loss)\n",
    "        history['val_acc'].append(val_acc)\n",
    "\n",
    "        print(f\"Epoch [{epoch+1}/{num_epochs}]\")\n",
    "        print(f\"Train Loss: {train_loss:.4f}, Train Accuracy: {train_acc:.2f}%\")\n",
    "        print(f\"Val Loss: {val_loss:.4f}, Val Accuracy: {val_acc:.2f}%\")\n",
    "        print(\"#\" * 80)\n",
    "\n",
    "    torch.save(model.state_dict(), f'best_brain_tumor_{name}.pth')\n",
    "\n",
    "    return history"
   ]
  },
  {
   "cell_type": "code",
   "execution_count": 57,
   "id": "84d44925-b3b0-4926-b91a-add9032c93d8",
   "metadata": {},
   "outputs": [],
   "source": [
    "def test_model(model, test_loader):\n",
    "    device = torch.device(\"cuda\" if torch.cuda.is_available() else \"cpu\")\n",
    "    model.to(device)\n",
    "    model.eval()\n",
    "    \n",
    "    correct = 0\n",
    "    total = 0\n",
    "    \n",
    "    all_preds = []\n",
    "    all_labels = []\n",
    "\n",
    "    with torch.no_grad():\n",
    "        for images, labels in test_loader:\n",
    "            images, labels = images.to(device), labels.to(device)\n",
    "            outputs = model(images)\n",
    "            _, predicted = torch.max(outputs, 1)\n",
    "            total += labels.size(0)\n",
    "            correct += (predicted == labels).sum().item()\n",
    "            \n",
    "            # Collect for later analysis\n",
    "            all_preds.extend(predicted.cpu().numpy())\n",
    "            all_labels.extend(labels.cpu().numpy())\n",
    "\n",
    "    test_acc = 100 * correct / total\n",
    "\n",
    "    print(f\"Test Accuracy: {test_acc:.2f}%\\n\")\n",
    "    \n",
    "    # Print classification report\n",
    "    print(\"Classification Report:\\n\")\n",
    "    print(classification_report(all_labels, all_preds, target_names=categories))"
   ]
  },
  {
   "cell_type": "code",
   "execution_count": 51,
   "id": "c6b01a19-3a3d-4ee3-9f53-eda947e8e8a8",
   "metadata": {},
   "outputs": [],
   "source": [
    "criterion = nn.CrossEntropyLoss()\n",
    "optimizer = optim.Adam(model.fc.parameters(), lr=1e-3)"
   ]
  },
  {
   "cell_type": "code",
   "execution_count": 52,
   "id": "f4abfc69-0d88-4f1e-837b-b73f575996f9",
   "metadata": {
    "scrolled": true
   },
   "outputs": [
    {
     "name": "stdout",
     "output_type": "stream",
     "text": [
      "Starting training...\n",
      "Epoch [1/50]\n",
      "Train Loss: 0.6059, Train Accuracy: 76.16%\n",
      "Val Loss: 0.4399, Val Accuracy: 82.62%\n",
      "################################################################################\n",
      "Epoch [2/50]\n",
      "Train Loss: 0.4627, Train Accuracy: 81.83%\n",
      "Val Loss: 0.4146, Val Accuracy: 83.99%\n",
      "################################################################################\n",
      "Epoch [3/50]\n",
      "Train Loss: 0.4233, Train Accuracy: 84.35%\n",
      "Val Loss: 0.3811, Val Accuracy: 83.54%\n",
      "################################################################################\n",
      "Epoch [4/50]\n",
      "Train Loss: 0.4129, Train Accuracy: 84.17%\n",
      "Val Loss: 0.3646, Val Accuracy: 85.82%\n",
      "################################################################################\n",
      "Epoch [5/50]\n",
      "Train Loss: 0.3840, Train Accuracy: 85.21%\n",
      "Val Loss: 0.3675, Val Accuracy: 86.13%\n",
      "################################################################################\n",
      "Epoch [6/50]\n",
      "Train Loss: 0.3582, Train Accuracy: 86.40%\n",
      "Val Loss: 0.3820, Val Accuracy: 85.06%\n",
      "################################################################################\n",
      "Epoch [7/50]\n",
      "Train Loss: 0.3618, Train Accuracy: 86.26%\n",
      "Val Loss: 0.3153, Val Accuracy: 86.59%\n",
      "################################################################################\n",
      "Epoch [8/50]\n",
      "Train Loss: 0.3437, Train Accuracy: 86.99%\n",
      "Val Loss: 0.3305, Val Accuracy: 87.35%\n",
      "################################################################################\n",
      "Epoch [9/50]\n",
      "Train Loss: 0.3318, Train Accuracy: 87.75%\n",
      "Val Loss: 0.3593, Val Accuracy: 85.52%\n",
      "################################################################################\n",
      "Epoch [10/50]\n",
      "Train Loss: 0.3320, Train Accuracy: 86.97%\n",
      "Val Loss: 0.3111, Val Accuracy: 88.26%\n",
      "################################################################################\n",
      "Epoch [11/50]\n",
      "Train Loss: 0.3269, Train Accuracy: 87.75%\n",
      "Val Loss: 0.3117, Val Accuracy: 87.65%\n",
      "################################################################################\n",
      "Epoch [12/50]\n",
      "Train Loss: 0.3226, Train Accuracy: 87.57%\n",
      "Val Loss: 0.3400, Val Accuracy: 86.28%\n",
      "################################################################################\n",
      "Epoch [13/50]\n",
      "Train Loss: 0.3308, Train Accuracy: 87.61%\n",
      "Val Loss: 0.3147, Val Accuracy: 87.50%\n",
      "################################################################################\n",
      "Epoch [14/50]\n",
      "Train Loss: 0.3176, Train Accuracy: 88.22%\n",
      "Val Loss: 0.3220, Val Accuracy: 86.74%\n",
      "################################################################################\n",
      "Epoch [15/50]\n",
      "Train Loss: 0.3189, Train Accuracy: 87.97%\n",
      "Val Loss: 0.2868, Val Accuracy: 88.26%\n",
      "################################################################################\n",
      "Epoch [16/50]\n",
      "Train Loss: 0.3152, Train Accuracy: 87.96%\n",
      "Val Loss: 0.2945, Val Accuracy: 88.11%\n",
      "################################################################################\n",
      "Epoch [17/50]\n",
      "Train Loss: 0.3026, Train Accuracy: 88.31%\n",
      "Val Loss: 0.3072, Val Accuracy: 87.35%\n",
      "################################################################################\n",
      "Epoch [18/50]\n",
      "Train Loss: 0.2959, Train Accuracy: 88.66%\n",
      "Val Loss: 0.2697, Val Accuracy: 88.72%\n",
      "################################################################################\n",
      "Epoch [19/50]\n",
      "Train Loss: 0.2980, Train Accuracy: 89.06%\n",
      "Val Loss: 0.2872, Val Accuracy: 89.18%\n",
      "################################################################################\n",
      "Epoch [20/50]\n",
      "Train Loss: 0.2974, Train Accuracy: 88.78%\n",
      "Val Loss: 0.2913, Val Accuracy: 87.65%\n",
      "################################################################################\n",
      "Epoch [21/50]\n",
      "Train Loss: 0.2846, Train Accuracy: 89.50%\n",
      "Val Loss: 0.2721, Val Accuracy: 87.96%\n",
      "################################################################################\n",
      "Epoch [22/50]\n",
      "Train Loss: 0.2899, Train Accuracy: 89.04%\n",
      "Val Loss: 0.2484, Val Accuracy: 89.63%\n",
      "################################################################################\n",
      "Epoch [23/50]\n",
      "Train Loss: 0.2849, Train Accuracy: 89.44%\n",
      "Val Loss: 0.2549, Val Accuracy: 89.18%\n",
      "################################################################################\n",
      "Epoch [24/50]\n",
      "Train Loss: 0.2952, Train Accuracy: 88.97%\n",
      "Val Loss: 0.3204, Val Accuracy: 86.89%\n",
      "################################################################################\n",
      "Epoch [25/50]\n",
      "Train Loss: 0.2912, Train Accuracy: 88.74%\n",
      "Val Loss: 0.2828, Val Accuracy: 87.80%\n",
      "################################################################################\n",
      "Epoch [26/50]\n",
      "Train Loss: 0.2864, Train Accuracy: 89.32%\n",
      "Val Loss: 0.2312, Val Accuracy: 89.79%\n",
      "################################################################################\n",
      "Epoch [27/50]\n",
      "Train Loss: 0.2749, Train Accuracy: 89.25%\n",
      "Val Loss: 0.2563, Val Accuracy: 89.79%\n",
      "################################################################################\n",
      "Epoch [28/50]\n",
      "Train Loss: 0.2612, Train Accuracy: 90.44%\n",
      "Val Loss: 0.3274, Val Accuracy: 87.35%\n",
      "################################################################################\n",
      "Epoch [29/50]\n",
      "Train Loss: 0.2670, Train Accuracy: 90.16%\n",
      "Val Loss: 0.2571, Val Accuracy: 88.57%\n",
      "################################################################################\n",
      "Epoch [30/50]\n",
      "Train Loss: 0.2600, Train Accuracy: 90.06%\n",
      "Val Loss: 0.2175, Val Accuracy: 90.55%\n",
      "################################################################################\n",
      "Epoch [31/50]\n",
      "Train Loss: 0.2555, Train Accuracy: 90.21%\n",
      "Val Loss: 0.2739, Val Accuracy: 88.26%\n",
      "################################################################################\n",
      "Epoch [32/50]\n",
      "Train Loss: 0.2634, Train Accuracy: 90.11%\n",
      "Val Loss: 0.2489, Val Accuracy: 89.02%\n",
      "################################################################################\n",
      "Epoch [33/50]\n",
      "Train Loss: 0.2578, Train Accuracy: 90.04%\n",
      "Val Loss: 0.2821, Val Accuracy: 88.11%\n",
      "################################################################################\n",
      "Epoch [34/50]\n",
      "Train Loss: 0.2525, Train Accuracy: 90.20%\n",
      "Val Loss: 0.2406, Val Accuracy: 89.63%\n",
      "################################################################################\n",
      "Epoch [35/50]\n",
      "Train Loss: 0.2579, Train Accuracy: 90.25%\n",
      "Val Loss: 0.2298, Val Accuracy: 90.24%\n",
      "################################################################################\n",
      "Epoch [36/50]\n",
      "Train Loss: 0.2547, Train Accuracy: 89.95%\n",
      "Val Loss: 0.2435, Val Accuracy: 89.63%\n",
      "################################################################################\n",
      "Epoch [37/50]\n",
      "Train Loss: 0.2578, Train Accuracy: 90.35%\n",
      "Val Loss: 0.2310, Val Accuracy: 91.46%\n",
      "################################################################################\n",
      "Epoch [38/50]\n",
      "Train Loss: 0.2653, Train Accuracy: 89.95%\n",
      "Val Loss: 0.2426, Val Accuracy: 89.63%\n",
      "################################################################################\n",
      "Epoch [39/50]\n",
      "Train Loss: 0.2574, Train Accuracy: 90.39%\n",
      "Val Loss: 0.1968, Val Accuracy: 91.16%\n",
      "################################################################################\n",
      "Epoch [40/50]\n",
      "Train Loss: 0.2531, Train Accuracy: 89.86%\n",
      "Val Loss: 0.2195, Val Accuracy: 90.55%\n",
      "################################################################################\n",
      "Epoch [41/50]\n",
      "Train Loss: 0.2482, Train Accuracy: 90.46%\n",
      "Val Loss: 0.2586, Val Accuracy: 89.48%\n",
      "################################################################################\n",
      "Epoch [42/50]\n",
      "Train Loss: 0.2529, Train Accuracy: 90.20%\n",
      "Val Loss: 0.2342, Val Accuracy: 89.79%\n",
      "################################################################################\n",
      "Epoch [43/50]\n",
      "Train Loss: 0.2467, Train Accuracy: 90.60%\n",
      "Val Loss: 0.2264, Val Accuracy: 90.09%\n",
      "################################################################################\n",
      "Epoch [44/50]\n",
      "Train Loss: 0.2490, Train Accuracy: 90.42%\n",
      "Val Loss: 0.2189, Val Accuracy: 89.79%\n",
      "################################################################################\n",
      "Epoch [45/50]\n",
      "Train Loss: 0.2436, Train Accuracy: 90.86%\n",
      "Val Loss: 0.2469, Val Accuracy: 89.63%\n",
      "################################################################################\n",
      "Epoch [46/50]\n",
      "Train Loss: 0.2337, Train Accuracy: 91.05%\n",
      "Val Loss: 0.2780, Val Accuracy: 88.72%\n",
      "################################################################################\n",
      "Epoch [47/50]\n",
      "Train Loss: 0.2300, Train Accuracy: 91.07%\n",
      "Val Loss: 0.2092, Val Accuracy: 90.70%\n",
      "################################################################################\n",
      "Epoch [48/50]\n",
      "Train Loss: 0.2379, Train Accuracy: 90.60%\n",
      "Val Loss: 0.1838, Val Accuracy: 91.01%\n",
      "################################################################################\n",
      "Epoch [49/50]\n",
      "Train Loss: 0.2353, Train Accuracy: 91.05%\n",
      "Val Loss: 0.2571, Val Accuracy: 89.79%\n",
      "################################################################################\n",
      "Epoch [50/50]\n",
      "Train Loss: 0.2431, Train Accuracy: 90.88%\n",
      "Val Loss: 0.1840, Val Accuracy: 91.62%\n",
      "################################################################################\n"
     ]
    }
   ],
   "source": [
    "print(\"Starting training...\")\n",
    "history = train_model(model, train_loader, val_loader, criterion, optimizer, num_epochs=50, name='resnet18')"
   ]
  },
  {
   "cell_type": "code",
   "execution_count": 59,
   "id": "592b106e-404d-4459-84da-ed637fc1f95b",
   "metadata": {},
   "outputs": [
    {
     "name": "stdout",
     "output_type": "stream",
     "text": [
      "Loading model for testing...\n",
      "Test Accuracy: 92.21%\n",
      "\n",
      "Classification Report:\n",
      "\n",
      "              precision    recall  f1-score   support\n",
      "\n",
      "  meningioma       0.97      0.99      0.98       213\n",
      "      glioma       0.89      0.85      0.87       139\n",
      "     notumor       0.84      0.86      0.85       152\n",
      "   pituitary       0.97      0.95      0.96       151\n",
      "\n",
      "    accuracy                           0.92       655\n",
      "   macro avg       0.92      0.91      0.91       655\n",
      "weighted avg       0.92      0.92      0.92       655\n",
      "\n"
     ]
    }
   ],
   "source": [
    "print(\"Loading model for testing...\")\n",
    "model.load_state_dict(torch.load('best_brain_tumor_resnet18.pth'))\n",
    "test_model(model, test_loader)"
   ]
  },
  {
   "cell_type": "code",
   "execution_count": 60,
   "id": "ce9d41ed-763f-45d0-938e-64ef011c7658",
   "metadata": {},
   "outputs": [],
   "source": [
    "# Unfreeze layer4 and fc\n",
    "for name, param in model.named_parameters():\n",
    "    if 'layer4' in name or 'layer3' in name or 'fc' in name:\n",
    "        param.requires_grad = True"
   ]
  },
  {
   "cell_type": "code",
   "execution_count": 61,
   "id": "715649f0-0914-4c3a-8034-67f03af55814",
   "metadata": {},
   "outputs": [],
   "source": [
    "optimizer = optim.Adam(filter(lambda p: p.requires_grad, model.parameters()), lr=1e-5)"
   ]
  },
  {
   "cell_type": "code",
   "execution_count": 62,
   "id": "c6541281-c212-4af0-b7e1-dba29e354131",
   "metadata": {},
   "outputs": [
    {
     "name": "stdout",
     "output_type": "stream",
     "text": [
      "Starting training...\n",
      "Epoch [1/10]\n",
      "Train Loss: 0.1997, Train Accuracy: 92.61%\n",
      "Val Loss: 0.1911, Val Accuracy: 90.85%\n",
      "################################################################################\n",
      "Epoch [2/10]\n",
      "Train Loss: 0.1568, Train Accuracy: 94.22%\n",
      "Val Loss: 0.1642, Val Accuracy: 91.31%\n",
      "################################################################################\n",
      "Epoch [3/10]\n",
      "Train Loss: 0.1419, Train Accuracy: 94.56%\n",
      "Val Loss: 0.1389, Val Accuracy: 92.68%\n",
      "################################################################################\n",
      "Epoch [4/10]\n",
      "Train Loss: 0.1173, Train Accuracy: 95.66%\n",
      "Val Loss: 0.1413, Val Accuracy: 93.60%\n",
      "################################################################################\n",
      "Epoch [5/10]\n",
      "Train Loss: 0.1130, Train Accuracy: 95.85%\n",
      "Val Loss: 0.1121, Val Accuracy: 95.73%\n",
      "################################################################################\n",
      "Epoch [6/10]\n",
      "Train Loss: 0.0946, Train Accuracy: 96.48%\n",
      "Val Loss: 0.0930, Val Accuracy: 96.80%\n",
      "################################################################################\n",
      "Epoch [7/10]\n",
      "Train Loss: 0.0817, Train Accuracy: 97.15%\n",
      "Val Loss: 0.0823, Val Accuracy: 96.80%\n",
      "################################################################################\n",
      "Epoch [8/10]\n",
      "Train Loss: 0.0798, Train Accuracy: 97.18%\n",
      "Val Loss: 0.0716, Val Accuracy: 97.41%\n",
      "################################################################################\n",
      "Epoch [9/10]\n",
      "Train Loss: 0.0746, Train Accuracy: 97.29%\n",
      "Val Loss: 0.0680, Val Accuracy: 97.56%\n",
      "################################################################################\n",
      "Epoch [10/10]\n",
      "Train Loss: 0.0597, Train Accuracy: 97.99%\n",
      "Val Loss: 0.0728, Val Accuracy: 97.56%\n",
      "################################################################################\n"
     ]
    }
   ],
   "source": [
    "print(\"Starting training...\")\n",
    "history = train_model(model, train_loader, val_loader, criterion, optimizer, num_epochs=10, name='resnet18_finetuned')"
   ]
  },
  {
   "cell_type": "code",
   "execution_count": 64,
   "id": "ffde3b49-5289-4b95-85cf-3908129c3238",
   "metadata": {},
   "outputs": [
    {
     "name": "stdout",
     "output_type": "stream",
     "text": [
      "Loading model for testing...\n",
      "Test Accuracy: 97.10%\n",
      "\n",
      "Classification Report:\n",
      "\n",
      "              precision    recall  f1-score   support\n",
      "\n",
      "  meningioma       0.99      1.00      0.99       213\n",
      "      glioma       0.98      0.91      0.94       139\n",
      "     notumor       0.92      0.97      0.95       152\n",
      "   pituitary       0.99      0.99      0.99       151\n",
      "\n",
      "    accuracy                           0.97       655\n",
      "   macro avg       0.97      0.97      0.97       655\n",
      "weighted avg       0.97      0.97      0.97       655\n",
      "\n"
     ]
    }
   ],
   "source": [
    "print(\"Loading model for testing...\")\n",
    "model.load_state_dict(torch.load('best_brain_tumor_resnet18_finetuned.pth'))\n",
    "test_model(model, test_loader)"
   ]
  }
 ],
 "metadata": {
  "kernelspec": {
   "display_name": "Python 3 (ipykernel)",
   "language": "python",
   "name": "python3"
  },
  "language_info": {
   "codemirror_mode": {
    "name": "ipython",
    "version": 3
   },
   "file_extension": ".py",
   "mimetype": "text/x-python",
   "name": "python",
   "nbconvert_exporter": "python",
   "pygments_lexer": "ipython3",
   "version": "3.10.12"
  }
 },
 "nbformat": 4,
 "nbformat_minor": 5
}
